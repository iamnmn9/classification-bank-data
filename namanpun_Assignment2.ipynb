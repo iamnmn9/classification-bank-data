{
  "nbformat": 4,
  "nbformat_minor": 0,
  "metadata": {
    "kernelspec": {
      "display_name": "Python 3",
      "language": "python",
      "name": "python3"
    },
    "language_info": {
      "codemirror_mode": {
        "name": "ipython",
        "version": 3
      },
      "file_extension": ".py",
      "mimetype": "text/x-python",
      "name": "python",
      "nbconvert_exporter": "python",
      "pygments_lexer": "ipython3",
      "version": "3.9.2"
    },
    "colab": {
      "name": "namanpun_Assignment2.ipynb",
      "provenance": [],
      "collapsed_sections": []
    }
  },
  "cells": [
    {
      "cell_type": "markdown",
      "metadata": {
        "id": "YE2XXE25ezU0"
      },
      "source": [
        "# Assignment #2 - Classification\n",
        "\n",
        "<font color=\"red\"> <b> Due: April 10  EOD</b> </font>"
      ]
    },
    {
      "cell_type": "markdown",
      "metadata": {
        "id": "mFK8-OStezU8"
      },
      "source": [
        "<font color=\"blue\"> NAMAN PUNDIR | namanpun@buffalo.edu | 50373843 </font>"
      ]
    },
    {
      "cell_type": "markdown",
      "metadata": {
        "id": "Y34_xYwgezVD"
      },
      "source": [
        "# I. Introduction\n",
        "\n",
        "Describe the objective of this assignment. You can briefly state how you accompilsh it."
      ]
    },
    {
      "cell_type": "markdown",
      "metadata": {
        "id": "eDllQwgdezVG"
      },
      "source": [
        "# II. Data\n",
        "\n",
        "You may choose one of the following three datasets to work on. Introduce your data and visualize them. Describe your observations about the data. \n",
        "1. https://archive.ics.uci.edu/ml/datasets/covertype\n",
        "2. https://archive.ics.uci.edu/ml/datasets/bank+marketing\n",
        "3. https://archive.ics.uci.edu/ml/datasets/Activity+recognition+using+wearable+physiological+measurements (data download link - https://www.ncbi.nlm.nih.gov/pmc/articles/PMC6960825/bin/sensors-19-05524-s001.zip)\n"
      ]
    },
    {
      "cell_type": "markdown",
      "metadata": {
        "id": "xFnfOhVJgMDV"
      },
      "source": [
        "#DATASET: 2nd dataset\n"
      ]
    },
    {
      "cell_type": "markdown",
      "metadata": {
        "id": "rv2UXOznezVJ"
      },
      "source": [
        "# III. Method\n",
        "\n",
        "Summarize the Least Mean Square Classifier, Fisher Linear Discriminant, Perceptron,logistic regression, and Neural Network.\n",
        "Do not forget explain your implementation. \n",
        "\n",
        "The explanation of your codes should not be the comments in a code cell. \n",
        "Each implementation will be followed by a separate cell that should include\n",
        " - review of the 4 classification models \n",
        " - your implementation and description\n"
      ]
    },
    {
      "cell_type": "code",
      "metadata": {
        "id": "mt-zoLfZBFPt"
      },
      "source": [
        "# from google.colab import drive\n",
        "# drive.mount('/content/drive')"
      ],
      "execution_count": 756,
      "outputs": []
    },
    {
      "cell_type": "markdown",
      "metadata": {
        "id": "JihFGKMLezVM"
      },
      "source": [
        "### Method"
      ]
    },
    {
      "cell_type": "code",
      "metadata": {
        "id": "gzHrpRzeezVQ"
      },
      "source": [
        "import numpy as np\n",
        "import matplotlib.pyplot as plt\n",
        "import seaborn as sn\n",
        "%matplotlib inline \n",
        "##your method implementation goes here\n",
        "from sklearn.metrics import accuracy_score"
      ],
      "execution_count": 757,
      "outputs": []
    },
    {
      "cell_type": "code",
      "metadata": {
        "id": "CCAVIVuCMSV7"
      },
      "source": [
        "# cd /content/drive/My Drive"
      ],
      "execution_count": 758,
      "outputs": []
    },
    {
      "cell_type": "code",
      "metadata": {
        "id": "ENsPA8GzhXIo"
      },
      "source": [
        "from prml.preprocess import polynomial "
      ],
      "execution_count": 759,
      "outputs": []
    },
    {
      "cell_type": "code",
      "metadata": {
        "id": "GwZ_ZVm4MaHE"
      },
      "source": [
        "# cd prml/linear"
      ],
      "execution_count": 760,
      "outputs": []
    },
    {
      "cell_type": "code",
      "metadata": {
        "id": "FaGQB_Rrh41a"
      },
      "source": [
        "#IMPORTING ALL LIBRARIES AND DEPENDENCIES:\n",
        "import softmax_regression\n",
        "import logistic_regression\n",
        "import fishers_linear_discriminant\n",
        "import least_squares_classifier\n",
        "import perceptron\n",
        "import classifier\n",
        "np.random.seed(1234)\n",
        "\n",
        "from sklearn.model_selection import train_test_split\n",
        "from sklearn.metrics import precision_recall_curve\n",
        "from sklearn.metrics import plot_precision_recall_curve\n",
        "from sklearn.metrics import recall_score\n",
        "from sklearn.metrics import accuracy_score\n",
        "from sklearn.linear_model import Perceptron\n",
        "from sklearn.metrics import average_precision_score\n",
        "from sklearn.metrics import confusion_matrix \n",
        "import pandas as pd\n",
        "from sklearn.preprocessing import LabelEncoder\n",
        "from sklearn.preprocessing import PolynomialFeatures\n"
      ],
      "execution_count": 761,
      "outputs": []
    },
    {
      "cell_type": "code",
      "metadata": {
        "id": "41VpLkXxbBY2"
      },
      "source": [
        "#DATA READ\n",
        "df = pd.read_csv('/content/bank-additional-full.csv',delimiter=\";\")\n"
      ],
      "execution_count": 762,
      "outputs": []
    },
    {
      "cell_type": "code",
      "metadata": {
        "id": "6b-UYWDwiOdD"
      },
      "source": [
        "list_cat_col=[ 'job', 'marital', 'education', 'default', 'housing', 'loan', 'contact', 'month', 'day_of_week', 'campaign', 'pdays', 'previous', 'poutcome','y']\n",
        "list_all=list(df.columns)"
      ],
      "execution_count": 763,
      "outputs": []
    },
    {
      "cell_type": "code",
      "metadata": {
        "id": "aPDM9P2EPmol"
      },
      "source": [
        "#DATA PREPROCESSING: ENCODING DATASET:\n",
        "def data_read_encoder(path,list_cat_col,target):\n",
        "\n",
        "    df_bank_raw = pd.read_csv(path,delimiter = ';')\n",
        "    list_all = (list(df_bank_raw.columns))\n",
        "    index = list_all.index(target)\n",
        "\n",
        "    for x in list_cat_col :\n",
        "        df_bank_raw[x] =  LabelEncoder().fit_transform(df_bank_raw[x])\n",
        "    list_all.pop(index)    \n",
        "    x_list = list_all\n",
        "    y_list = [target]\n",
        "\n",
        "    df_bank_updated = df_bank_raw[x_list+y_list]\n",
        "    return(df_bank_updated,x_list,y_list)"
      ],
      "execution_count": 764,
      "outputs": []
    },
    {
      "cell_type": "code",
      "metadata": {
        "id": "OhmsKtAzcCpm"
      },
      "source": [
        "#DATA ENCODING FUNCTION CALL:\n",
        "df_bank_updated,x_list,y_list=data_read_encoder(\"//content/bank-additional-full.csv\",list_cat_col,\"y\")"
      ],
      "execution_count": 765,
      "outputs": []
    },
    {
      "cell_type": "code",
      "metadata": {
        "colab": {
          "base_uri": "https://localhost:8080/",
          "height": 222
        },
        "id": "jwGmi97oran1",
        "outputId": "6a586732-d357-49dd-889c-ed4a0d97c9dd"
      },
      "source": [
        "#THE NEW DATASET AFTER ENCODING:\n",
        "df_bank_updated.head()"
      ],
      "execution_count": 766,
      "outputs": [
        {
          "output_type": "execute_result",
          "data": {
            "text/html": [
              "<div>\n",
              "<style scoped>\n",
              "    .dataframe tbody tr th:only-of-type {\n",
              "        vertical-align: middle;\n",
              "    }\n",
              "\n",
              "    .dataframe tbody tr th {\n",
              "        vertical-align: top;\n",
              "    }\n",
              "\n",
              "    .dataframe thead th {\n",
              "        text-align: right;\n",
              "    }\n",
              "</style>\n",
              "<table border=\"1\" class=\"dataframe\">\n",
              "  <thead>\n",
              "    <tr style=\"text-align: right;\">\n",
              "      <th></th>\n",
              "      <th>age</th>\n",
              "      <th>job</th>\n",
              "      <th>marital</th>\n",
              "      <th>education</th>\n",
              "      <th>default</th>\n",
              "      <th>housing</th>\n",
              "      <th>loan</th>\n",
              "      <th>contact</th>\n",
              "      <th>month</th>\n",
              "      <th>day_of_week</th>\n",
              "      <th>duration</th>\n",
              "      <th>campaign</th>\n",
              "      <th>pdays</th>\n",
              "      <th>previous</th>\n",
              "      <th>poutcome</th>\n",
              "      <th>emp.var.rate</th>\n",
              "      <th>cons.price.idx</th>\n",
              "      <th>cons.conf.idx</th>\n",
              "      <th>euribor3m</th>\n",
              "      <th>nr.employed</th>\n",
              "      <th>y</th>\n",
              "    </tr>\n",
              "  </thead>\n",
              "  <tbody>\n",
              "    <tr>\n",
              "      <th>0</th>\n",
              "      <td>56</td>\n",
              "      <td>3</td>\n",
              "      <td>1</td>\n",
              "      <td>0</td>\n",
              "      <td>0</td>\n",
              "      <td>0</td>\n",
              "      <td>0</td>\n",
              "      <td>1</td>\n",
              "      <td>6</td>\n",
              "      <td>1</td>\n",
              "      <td>261</td>\n",
              "      <td>0</td>\n",
              "      <td>26</td>\n",
              "      <td>0</td>\n",
              "      <td>1</td>\n",
              "      <td>1.1</td>\n",
              "      <td>93.994</td>\n",
              "      <td>-36.4</td>\n",
              "      <td>4.857</td>\n",
              "      <td>5191.0</td>\n",
              "      <td>0</td>\n",
              "    </tr>\n",
              "    <tr>\n",
              "      <th>1</th>\n",
              "      <td>57</td>\n",
              "      <td>7</td>\n",
              "      <td>1</td>\n",
              "      <td>3</td>\n",
              "      <td>1</td>\n",
              "      <td>0</td>\n",
              "      <td>0</td>\n",
              "      <td>1</td>\n",
              "      <td>6</td>\n",
              "      <td>1</td>\n",
              "      <td>149</td>\n",
              "      <td>0</td>\n",
              "      <td>26</td>\n",
              "      <td>0</td>\n",
              "      <td>1</td>\n",
              "      <td>1.1</td>\n",
              "      <td>93.994</td>\n",
              "      <td>-36.4</td>\n",
              "      <td>4.857</td>\n",
              "      <td>5191.0</td>\n",
              "      <td>0</td>\n",
              "    </tr>\n",
              "    <tr>\n",
              "      <th>2</th>\n",
              "      <td>37</td>\n",
              "      <td>7</td>\n",
              "      <td>1</td>\n",
              "      <td>3</td>\n",
              "      <td>0</td>\n",
              "      <td>2</td>\n",
              "      <td>0</td>\n",
              "      <td>1</td>\n",
              "      <td>6</td>\n",
              "      <td>1</td>\n",
              "      <td>226</td>\n",
              "      <td>0</td>\n",
              "      <td>26</td>\n",
              "      <td>0</td>\n",
              "      <td>1</td>\n",
              "      <td>1.1</td>\n",
              "      <td>93.994</td>\n",
              "      <td>-36.4</td>\n",
              "      <td>4.857</td>\n",
              "      <td>5191.0</td>\n",
              "      <td>0</td>\n",
              "    </tr>\n",
              "    <tr>\n",
              "      <th>3</th>\n",
              "      <td>40</td>\n",
              "      <td>0</td>\n",
              "      <td>1</td>\n",
              "      <td>1</td>\n",
              "      <td>0</td>\n",
              "      <td>0</td>\n",
              "      <td>0</td>\n",
              "      <td>1</td>\n",
              "      <td>6</td>\n",
              "      <td>1</td>\n",
              "      <td>151</td>\n",
              "      <td>0</td>\n",
              "      <td>26</td>\n",
              "      <td>0</td>\n",
              "      <td>1</td>\n",
              "      <td>1.1</td>\n",
              "      <td>93.994</td>\n",
              "      <td>-36.4</td>\n",
              "      <td>4.857</td>\n",
              "      <td>5191.0</td>\n",
              "      <td>0</td>\n",
              "    </tr>\n",
              "    <tr>\n",
              "      <th>4</th>\n",
              "      <td>56</td>\n",
              "      <td>7</td>\n",
              "      <td>1</td>\n",
              "      <td>3</td>\n",
              "      <td>0</td>\n",
              "      <td>0</td>\n",
              "      <td>2</td>\n",
              "      <td>1</td>\n",
              "      <td>6</td>\n",
              "      <td>1</td>\n",
              "      <td>307</td>\n",
              "      <td>0</td>\n",
              "      <td>26</td>\n",
              "      <td>0</td>\n",
              "      <td>1</td>\n",
              "      <td>1.1</td>\n",
              "      <td>93.994</td>\n",
              "      <td>-36.4</td>\n",
              "      <td>4.857</td>\n",
              "      <td>5191.0</td>\n",
              "      <td>0</td>\n",
              "    </tr>\n",
              "  </tbody>\n",
              "</table>\n",
              "</div>"
            ],
            "text/plain": [
              "   age  job  marital  education  ...  cons.conf.idx  euribor3m  nr.employed  y\n",
              "0   56    3        1          0  ...          -36.4      4.857       5191.0  0\n",
              "1   57    7        1          3  ...          -36.4      4.857       5191.0  0\n",
              "2   37    7        1          3  ...          -36.4      4.857       5191.0  0\n",
              "3   40    0        1          1  ...          -36.4      4.857       5191.0  0\n",
              "4   56    7        1          3  ...          -36.4      4.857       5191.0  0\n",
              "\n",
              "[5 rows x 21 columns]"
            ]
          },
          "metadata": {
            "tags": []
          },
          "execution_count": 766
        }
      ]
    },
    {
      "cell_type": "code",
      "metadata": {
        "id": "6RsDj-3Rqihv"
      },
      "source": [
        "#initializing y to result column:\n",
        "y = (df_bank_updated['y'] )\n"
      ],
      "execution_count": 767,
      "outputs": []
    },
    {
      "cell_type": "code",
      "metadata": {
        "id": "UeLEnDyfqyla"
      },
      "source": [
        "##initializing x to rest of the column:\n",
        "feature_cols = ['age', 'job', 'marital', 'education', 'default', 'housing', 'loan', 'contact', 'month', 'day_of_week', 'duration', 'campaign', 'pdays', 'previous', 'poutcome', 'emp.var.rate', 'cons.price.idx', 'cons.conf.idx', 'euribor3m', 'nr.employed']\n",
        "#feature_cols.remove(\"y\")\n",
        "x = np.asarray(df_bank_updated[feature_cols])"
      ],
      "execution_count": 768,
      "outputs": []
    },
    {
      "cell_type": "code",
      "metadata": {
        "id": "-dP-bDXaqFIb"
      },
      "source": [
        "#Data split into train and test:\n",
        "x_train, x_test, y_train, y_test = train_test_split(x, y, test_size=0.2, random_state=1)\n",
        "feature=PolynomialFeatures(1)\n",
        "x_train=feature.fit_transform(x_train)\n",
        "x_test=feature.fit_transform(x_test)\n"
      ],
      "execution_count": 769,
      "outputs": []
    },
    {
      "cell_type": "markdown",
      "metadata": {
        "id": "cK_1CUhhIvtC"
      },
      "source": [
        "**1. LEAST SQUARE CLASSIFIER:**"
      ]
    },
    {
      "cell_type": "code",
      "metadata": {
        "colab": {
          "base_uri": "https://localhost:8080/"
        },
        "id": "ngeLhhqloNgj",
        "outputId": "3c1e69a2-942e-4c1f-c619-694fb4c8348a"
      },
      "source": [
        "#Model fitting and accuracy computing\n",
        "model1=least_squares_classifier.LeastSquaresClassifier()\n",
        "model1.fit(x_train,y_train)\n",
        "y1=model1.classify(x_test)\n",
        "ac1=accuracy_score(y_test,y1)\n",
        "print(\"Accuracy of Least Square Classifier is: \\n\"+str(ac1*100)+\"%\")\n",
        "\n",
        "ap1 = average_precision_score(y_test, y1)\n",
        "print(\"Precision of Least Square Classifier is: \\n\"+str(ap1*100)+\"%\")\n",
        "\n",
        "rs1=recall_score(y_test,y1)\n",
        "print(\"Recall of Least Square Classifier is: \\n\"+str(rs1*100)+\"%\")"
      ],
      "execution_count": 770,
      "outputs": [
        {
          "output_type": "stream",
          "text": [
            "Accuracy of Least Square Classifier is: \n",
            "90.44671036659383%\n",
            "Precision of Least Square Classifier is: \n",
            "29.510254114795792%\n",
            "Recall of Least Square Classifier is: \n",
            "32.309322033898304%\n"
          ],
          "name": "stdout"
        }
      ]
    },
    {
      "cell_type": "code",
      "metadata": {
        "colab": {
          "base_uri": "https://localhost:8080/",
          "height": 331
        },
        "id": "RfH1h0AbbWZ5",
        "outputId": "7d069648-b0b6-4095-8f3f-9b55c00e04b6"
      },
      "source": [
        "#confusion matrix calculation\n",
        "cm1=confusion_matrix(y_test,y1)\n",
        "print(\"confusion matrix:\\n\",cm1)\n",
        "sn.heatmap(cm1, annot=True, cmap=\"Greens\")\n",
        "plt.xlabel('True Value')\n",
        "plt.ylabel('Predicted Value')\n",
        "plt.show()"
      ],
      "execution_count": 771,
      "outputs": [
        {
          "output_type": "stream",
          "text": [
            "confusion matrix:\n",
            " [[7146  148]\n",
            " [ 639  305]]\n"
          ],
          "name": "stdout"
        },
        {
          "output_type": "display_data",
          "data": {
            "image/png": "[encoded data removed]",
            "text/plain": [
              "<Figure size 432x288 with 2 Axes>"
            ]
          },
          "metadata": {
            "tags": [],
            "needs_background": "light"
          }
        }
      ]
    },
    {
      "cell_type": "markdown",
      "metadata": {
        "id": "wnySddebK-l0"
      },
      "source": [
        "**2.LOGISTIC REGRESSION**"
      ]
    },
    {
      "cell_type": "code",
      "metadata": {
        "id": "lK0na8PyTzg2"
      },
      "source": [
        "#again splitting the data to make sure previous classifier changes do not impact on the data\n",
        "x_train, x_test, y_train, y_test = train_test_split(x, y, test_size=0.2, random_state=1)\n",
        "feature=PolynomialFeatures(1)\n",
        "x_train=feature.fit_transform(x_train)\n",
        "x_test=feature.fit_transform(x_test)"
      ],
      "execution_count": 772,
      "outputs": []
    },
    {
      "cell_type": "code",
      "metadata": {
        "colab": {
          "base_uri": "https://localhost:8080/"
        },
        "id": "z4ZM3fhV7I6F",
        "outputId": "b9d58b3c-ef5c-48bd-f080-7b9b38d46192"
      },
      "source": [
        "#Model fitting and accuracy computing\n",
        "model2=logistic_regression.LogisticRegression()\n",
        "model2.fit(x_train,y_train)\n",
        "y2=model2.classify(x_test)\n",
        "ac2=accuracy_score(y_test,y2)\n",
        "print(\"Accuracy of LOGISTIC REGRESSION is: \\n\"+str(ac2*100)+\"%\")\n",
        "\n",
        "ap2 = average_precision_score(y_test, y2)\n",
        "print(\"Precision of LOGISTIC REGRESSION is: \\n\"+str(ap2*100)+\"%\")\n",
        "\n",
        "rs2=recall_score(y_test,y2)\n",
        "print(\"Recall of LOGISTIC REGRESSION is: \\n\"+str(rs2*100)+\"%\")"
      ],
      "execution_count": 773,
      "outputs": [
        {
          "output_type": "stream",
          "text": [
            "Accuracy of LOGISTIC REGRESSION is: \n",
            "90.95654285020636%\n",
            "Precision of LOGISTIC REGRESSION is: \n",
            "34.840168926907836%\n",
            "Recall of LOGISTIC REGRESSION is: \n",
            "42.478813559322035%\n"
          ],
          "name": "stdout"
        }
      ]
    },
    {
      "cell_type": "code",
      "metadata": {
        "colab": {
          "base_uri": "https://localhost:8080/",
          "height": 332
        },
        "id": "cDWCIpLndMif",
        "outputId": "ffa0c082-fa23-4f67-9cdc-fc7ff87285a6"
      },
      "source": [
        "#confusion matrix calculation\n",
        "cm2=confusion_matrix(y_test,y2)\n",
        "print(\"confusion matrix:\\n\",cm2)\n",
        "sn.heatmap(cm2, annot=True, cmap=\"BuPu\")\n",
        "plt.xlabel('True Value')\n",
        "plt.ylabel('Predicted Value')\n",
        "plt.show()"
      ],
      "execution_count": 774,
      "outputs": [
        {
          "output_type": "stream",
          "text": [
            "confusion matrix:\n",
            " [[7092  202]\n",
            " [ 543  401]]\n"
          ],
          "name": "stdout"
        },
        {
          "output_type": "display_data",
          "data": {
            "image/png": "[encoded data removed]",
            "text/plain": [
              "<Figure size 432x288 with 2 Axes>"
            ]
          },
          "metadata": {
            "tags": [],
            "needs_background": "light"
          }
        }
      ]
    },
    {
      "cell_type": "markdown",
      "metadata": {
        "id": "GKMlvU-dLBJO"
      },
      "source": [
        "**3.PERCEPTRON**"
      ]
    },
    {
      "cell_type": "code",
      "metadata": {
        "id": "roCSy82qTpN9"
      },
      "source": [
        "#again splitting the data to make sure previous classifier changes do not impact on the data\n",
        "x_train, x_test, y_train, y_test = train_test_split(x, y, test_size=0.2, random_state=1)\n",
        "feature=PolynomialFeatures(1)\n",
        "x_train=feature.fit_transform(x_train)\n",
        "x_test=feature.fit_transform(x_test)"
      ],
      "execution_count": 775,
      "outputs": []
    },
    {
      "cell_type": "code",
      "metadata": {
        "colab": {
          "base_uri": "https://localhost:8080/"
        },
        "id": "4ptZWoYjTceP",
        "outputId": "e35065d9-e960-4e16-8a7d-add918f5f465"
      },
      "source": [
        "#Model fitting and accuracy computing\n",
        "model3=Perceptron()\n",
        "model3.fit(x_train,y_train)\n",
        "y3=model3.predict(x_test)\n",
        "ac3=accuracy_score(y_test,y3)\n",
        "print(\"Accuracy of PERCEPTRON: \\n\"+str(ac3*100)+\"%\")\n",
        "ap3= average_precision_score(y_test, y3)\n",
        "print(\"Precision of PERCEPTRON is: \\n\"+str(ap3*100)+\"%\")\n",
        "rs3=recall_score(y_test,y3)\n",
        "print(\"Recall of PERCEPTRON is: \\n\"+str(rs3*100)+\"%\")"
      ],
      "execution_count": 776,
      "outputs": [
        {
          "output_type": "stream",
          "text": [
            "Accuracy of PERCEPTRON: \n",
            "88.58946346200534%\n",
            "Precision of PERCEPTRON is: \n",
            "11.862953715934015%\n",
            "Recall of PERCEPTRON is: \n",
            "0.6355932203389831%\n"
          ],
          "name": "stdout"
        }
      ]
    },
    {
      "cell_type": "code",
      "metadata": {
        "colab": {
          "base_uri": "https://localhost:8080/",
          "height": 331
        },
        "id": "JZvaeQULeJ0r",
        "outputId": "896e6fae-06ea-468a-bf48-e388a76334c9"
      },
      "source": [
        "#confusion matrix calculation\n",
        "cm3=confusion_matrix(y_test,y3)\n",
        "print(\"confusion matrix:\\n\",cm3)\n",
        "sn.heatmap(cm3, annot=True, cmap=\"Blues\")\n",
        "plt.xlabel('True Value')\n",
        "plt.ylabel('Predicted Value')\n",
        "plt.show()"
      ],
      "execution_count": 777,
      "outputs": [
        {
          "output_type": "stream",
          "text": [
            "confusion matrix:\n",
            " [[7292    2]\n",
            " [ 938    6]]\n"
          ],
          "name": "stdout"
        },
        {
          "output_type": "display_data",
          "data": {
            "image/png": "[encoded data removed]",
            "text/plain": [
              "<Figure size 432x288 with 2 Axes>"
            ]
          },
          "metadata": {
            "tags": [],
            "needs_background": "light"
          }
        }
      ]
    },
    {
      "cell_type": "markdown",
      "metadata": {
        "id": "CIExT1qRLPOK"
      },
      "source": [
        "**4. FISHER LINEAR DISCRIMINANT**"
      ]
    },
    {
      "cell_type": "code",
      "metadata": {
        "id": "6PZrR-dYUnUa"
      },
      "source": [
        "#again splitting the data to make sure previous classifier changes do not impact on the data\n",
        "x_train, x_test, y_train, y_test = train_test_split(x, y, test_size=0.2, random_state=1)\n",
        "feature=PolynomialFeatures(1)\n",
        "x_train_f=feature.fit_transform(x_train)\n",
        "x_test_f=feature.fit_transform(x_test)"
      ],
      "execution_count": 778,
      "outputs": []
    },
    {
      "cell_type": "code",
      "metadata": {
        "colab": {
          "base_uri": "https://localhost:8080/"
        },
        "id": "A-BOlt8zLRiZ",
        "outputId": "a4652335-99bc-4aac-ad3e-12ce05326761"
      },
      "source": [
        "#Model fitting and accuracy computing\n",
        "model4=fishers_linear_discriminant.FishersLinearDiscriminant()\n",
        "model4.fit(x_train,y_train)\n",
        "y4=model4.classify(x_test)\n",
        "ac4=accuracy_score(y_test,y4)\n",
        "print(\"Accuracy of FISHER LINEAR DISC. is: \\n\"+str(ac4*100)+\"%\")\n",
        "\n",
        "ap4 = average_precision_score(y_test, y4)\n",
        "print(\"Precision of FISHER LINEAR DISC is: \\n\"+str(ap4*100)+\"%\")\n",
        "\n",
        "rs4=recall_score(y_test,y4)\n",
        "print(\"Recall of FISHER LINEAR DISC is: \\n\"+str(rs4*100)+\"%\")"
      ],
      "execution_count": 779,
      "outputs": [
        {
          "output_type": "stream",
          "text": [
            "Accuracy of FISHER LINEAR DISC. is: \n",
            "85.61544064093226%\n",
            "Precision of FISHER LINEAR DISC is: \n",
            "37.8557403489668%\n",
            "Recall of FISHER LINEAR DISC is: \n",
            "82.83898305084746%\n"
          ],
          "name": "stdout"
        }
      ]
    },
    {
      "cell_type": "code",
      "metadata": {
        "colab": {
          "base_uri": "https://localhost:8080/",
          "height": 331
        },
        "id": "5NAyg8kDJ-k3",
        "outputId": "e78ba761-bca7-4bad-b7f3-cb84f84f025a"
      },
      "source": [
        "#confusion matrix calculation\n",
        "cm4=confusion_matrix(y_test,y4)\n",
        "print(\"confusion matrix:\\n\",cm4)\n",
        "sn.heatmap(cm4, annot=True, cmap=\"Reds\")\n",
        "plt.xlabel('True Value')\n",
        "plt.ylabel('Predicted Value')\n",
        "p4=plt.show()"
      ],
      "execution_count": 780,
      "outputs": [
        {
          "output_type": "stream",
          "text": [
            "confusion matrix:\n",
            " [[6271 1023]\n",
            " [ 162  782]]\n"
          ],
          "name": "stdout"
        },
        {
          "output_type": "display_data",
          "data": {
            "image/png": "[encoded data removed]",
            "text/plain": [
              "<Figure size 432x288 with 2 Axes>"
            ]
          },
          "metadata": {
            "tags": [],
            "needs_background": "light"
          }
        }
      ]
    },
    {
      "cell_type": "markdown",
      "metadata": {
        "id": "_sHIKNttezVT"
      },
      "source": [
        "# IV. Experiments\n",
        "\n",
        "Apply the classfiers on the data and discuss the results.\n",
        "Please describe your codes for experiments. You may have subsections of results and discussions here.\n",
        "Here follows the list that you consider to include:\n",
        "- the classification results\n",
        "- plots of classification results \n",
        "- model comparision \n",
        "- choice of evaluation metrics\n",
        "- **Must partition data into training and testing**"
      ]
    },
    {
      "cell_type": "code",
      "metadata": {
        "colab": {
          "base_uri": "https://localhost:8080/",
          "height": 815
        },
        "id": "htULtEG7c_ez",
        "outputId": "69bddae2-3e6f-44a0-e606-c47bd1037083"
      },
      "source": [
        "################################## FINAL OUTPUT ##############################################\n",
        "print(\"********************ACCURACY PERCENTAGE TABLE:********************\")\n",
        "print(\"\\nLEAST SQUARE CLASSIFICATION:\",ac1*100,\"%\")\n",
        "print(\"\\nLOGISTIC REGRESSION:        \",ac2*100,\"%\")\n",
        "print(\"\\nPERCEPTRON:                 \",ac3*100,\"%\")\n",
        "print(\"\\nFISHER LINEAR DISCRIMINANT: \",ac4*100,\"%\")\n",
        "print(\"\\n********************PRECISION SCORE TABLE:***********************\")\n",
        "print(\"\\nLEAST SQUARE CLASSIFICATION:\",ap1*100,)\n",
        "print(\"\\nLOGISTIC REGRESSION:        \",ap2*100,)\n",
        "print(\"\\nPERCEPTRON:                 \",ap3*100,)\n",
        "print(\"\\nFISHER LINEAR DISCRIMINANT: \",ap4*100,)\n",
        "print(\"\\n********************RECALL SCORE TABLE:**************************\")\n",
        "print(\"\\nLEAST SQUARE CLASSIFICATION:\",rs1)\n",
        "print(\"\\nLOGISTIC REGRESSION:        \",rs2)\n",
        "print(\"\\nPERCEPTRON:                 \",rs3)\n",
        "print(\"\\nFISHER LINEAR DISCRIMINANT: \",rs4)\n",
        "print(\"*******************************************************************\")\n",
        "category = ['Least sq.', 'Logistic', 'Perceptron', 'Fisher']\n",
        "Acc = [ac1*100,ac2*100,ac3*100,ac4*100]\n",
        "x_pos = [i for i, _ in enumerate(category)]\n",
        "plt.bar(x_pos, Acc, color='green')\n",
        "plt.xlabel(\"Classifiers\")\n",
        "plt.ylabel(\"Accuracy %\")\n",
        "plt.title(\"Accuracy comparison:\")\n",
        "plt.xticks(x_pos, category)\n",
        "plt.show()"
      ],
      "execution_count": 784,
      "outputs": [
        {
          "output_type": "stream",
          "text": [
            "********************ACCURACY PERCENTAGE TABLE:********************\n",
            "\n",
            "LEAST SQUARE CLASSIFICATION: 90.44671036659383 %\n",
            "\n",
            "LOGISTIC REGRESSION:         90.95654285020636 %\n",
            "\n",
            "PERCEPTRON:                  88.58946346200534 %\n",
            "\n",
            "FISHER LINEAR DISCRIMINANT:  85.61544064093226 %\n",
            "\n",
            "********************PRECISION SCORE TABLE:***********************\n",
            "\n",
            "LEAST SQUARE CLASSIFICATION: 29.510254114795792\n",
            "\n",
            "LOGISTIC REGRESSION:         34.840168926907836\n",
            "\n",
            "PERCEPTRON:                  11.862953715934015\n",
            "\n",
            "FISHER LINEAR DISCRIMINANT:  37.8557403489668\n",
            "\n",
            "********************RECALL SCORE TABLE:**************************\n",
            "\n",
            "LEAST SQUARE CLASSIFICATION: 0.3230932203389831\n",
            "\n",
            "LOGISTIC REGRESSION:         0.4247881355932203\n",
            "\n",
            "PERCEPTRON:                  0.006355932203389831\n",
            "\n",
            "FISHER LINEAR DISCRIMINANT:  0.8283898305084746\n",
            "*******************************************************************\n"
          ],
          "name": "stdout"
        },
        {
          "output_type": "display_data",
          "data": {
            "image/png": "[encoded data removed]",
            "text/plain": [
              "<Figure size 432x288 with 1 Axes>"
            ]
          },
          "metadata": {
            "tags": [],
            "needs_background": "light"
          }
        }
      ]
    },
    {
      "cell_type": "markdown",
      "metadata": {
        "id": "9eU7MGojezVU"
      },
      "source": [
        "# Conclusions\n",
        "\n",
        "Summarize your work here. \n",
        "Which classifier do you think the best? \n",
        "Discuss the challenges or somethat that you learned. \n",
        "If you have any suggestion about the assignment, you can write about it. \n",
        "\n",
        "**I have taken Dataset2 for this assignment i.e Bank dataset.**\n",
        "#####**Steps:** \n",
        "1. Reading the data.\n",
        "2. Encoding the data as the dataset was categorical and contain some string values.\n",
        "3. Splitting the data and tranforming the splitted data.\n",
        "4. Using 4 classifier in prml.linear: Least Sq. Classifier, Logistic Regression, Perceptron, Fisher Linear Discriminant.\n",
        "5. Selecting model and fitting the data for classification.\n",
        "6. Computing accuracy, precision and recall.\n",
        "7. Computing confusion matrix.\n",
        "8. Plotting confusion matrix. \n",
        "\n",
        "**According to my final accuracy table *LOGISTIC Regression with 90.95%* accuracy was the best for the dataset2-BANK dataset.**\n",
        "\n",
        "**Challenges:** I have previously worked in a simpler dataset where the data is not categorical or in different datatypes. Converting the dataset in one-hot encoding was a new thing to me and I learned how to preprocess the data so that we can use any algorithm in it succesfully.\n",
        "\n",
        "\n"
      ]
    },
    {
      "cell_type": "markdown",
      "metadata": {
        "id": "0XVbXxBbezVV"
      },
      "source": [
        "# References\n",
        "1. UBlearn>documents>prml libraries + classification.ipynb\n",
        "2. https://stackoverflow.com/questions/37292872/how-can-i-one-hot-encode-in-python\n",
        "3. https://pbpython.com/categorical-encoding.html\n",
        "4. http://scikit-learn.org/stable/auto_examples/model_selection/plot_confusion_matrix.html\n",
        "5. https://seaborn.pydata.org/generated/seaborn.heatmap.html"
      ]
    }
  ]
}